{
 "cells": [
  {
   "cell_type": "markdown",
   "id": "492ab095",
   "metadata": {},
   "source": [
    "# Panel irradiance interpolation"
   ]
  },
  {
   "cell_type": "markdown",
   "id": "f8154a1a",
   "metadata": {},
   "source": [
    "# Imports"
   ]
  },
  {
   "cell_type": "code",
   "execution_count": 1,
   "id": "7ddb1047",
   "metadata": {
    "ExecuteTime": {
     "end_time": "2021-08-02T17:09:06.539334Z",
     "start_time": "2021-08-02T17:09:05.788315Z"
    }
   },
   "outputs": [
    {
     "name": "stdout",
     "output_type": "stream",
     "text": [
      "1.19.2\n"
     ]
    }
   ],
   "source": [
    "import warnings\n",
    "import glob\n",
    "import os\n",
    "import exiftool\n",
    "import micasense.imageset as imageset\n",
    "import micasense.capture as capture\n",
    "import micasense.metadata as metadata\n",
    "import numpy as np\n",
    "print(np.version.version)\n",
    "\n",
    "warnings.filterwarnings('ignore')"
   ]
  },
  {
   "cell_type": "markdown",
   "id": "ac682ac2",
   "metadata": {},
   "source": [
    "## 2.  Setting up the images directory "
   ]
  },
  {
   "cell_type": "code",
   "execution_count": 2,
   "id": "863caf8a",
   "metadata": {
    "ExecuteTime": {
     "end_time": "2021-08-02T17:09:08.253483Z",
     "start_time": "2021-08-02T17:09:08.242542Z"
    }
   },
   "outputs": [
    {
     "data": {
      "text/plain": [
       "0.5714285714285714"
      ]
     },
     "execution_count": 2,
     "metadata": {},
     "output_type": "execute_result"
    }
   ],
   "source": [
    "os.listdir('Images')\n",
    "images_dir = 'Images'\n"
   ]
  },
  {
   "cell_type": "markdown",
   "id": "84ddbbca",
   "metadata": {},
   "source": [
    "## 3. Reading calibration panel images "
   ]
  },
  {
   "cell_type": "code",
   "execution_count": 3,
   "id": "e90a66c0",
   "metadata": {
    "ExecuteTime": {
     "end_time": "2021-08-02T17:12:51.077860Z",
     "start_time": "2021-08-02T17:12:48.383302Z"
    }
   },
   "outputs": [
    {
     "data": {
      "text/plain": [
       "<micasense.capture.Capture at 0x7f93191ae110>"
      ]
     },
     "execution_count": 3,
     "metadata": {},
     "output_type": "execute_result"
    }
   ],
   "source": [
    "panel = sorted(glob.glob(images_dir + '/**/*.tif', recursive=True))\n",
    "\n",
    "# First six images are the panel image captured before the fly\n",
    "panelNames_start = panel[0:6]\n",
    "\n",
    "# Last six images are the panel image captured after the fly\n",
    "panelNames_end = panel[len(panel)-6:len(panel)]\n",
    "\n",
    "# Reading capture class\n",
    "panelcap_start = capture.Capture.from_filelist(panelNames_start)\n",
    "panelcap_end = capture.Capture.from_filelist(panelNames_end)\n",
    "\n",
    "# Reflectance by band, calibration values\n",
    "panel_reflectance_by_band = panelcap_start.panel_albedo()\n",
    "panel_reflectance_by_band\n",
    "\n",
    "# Irradiance by band obtained by the calibration panel before the fly\n",
    "panel_irradiance_start = np.array(\n",
    "    panelcap_start.panel_irradiance(panel_reflectance_by_band))\n",
    "\n",
    "# Irradiance by band obtained in the DLS sensor\n",
    "dls_irradiance_start = np.array(panelcap_start.dls_irradiance()[:-1])\n",
    "\n",
    "# Correction fraction\n",
    "dls_correction_start = panel_irradiance_start/dls_irradiance_start\n",
    "dls_correction_start\n",
    "\n",
    "# Reading metadata and getting the panel capture time\n",
    "meta_start = metadata.Metadata(panelNames_start[0])\n",
    "Time_start = meta_start.utc_time().hour + (meta_start.utc_time().minute/60) + \\\n",
    "    (meta_start.utc_time().second/3600)\n",
    "\n",
    "\n",
    "panelcap_end = capture.Capture.from_filelist(panelNames_end)\n",
    "panel_irradiance_end = np.array(\n",
    "    panelcap_end.panel_irradiance(panel_reflectance_by_band))\n",
    "dls_irradiance_end = np.array(panelcap_end.dls_irradiance()[:-1])\n",
    "dls_correction_end = panel_irradiance_end/dls_irradiance_end\n",
    "dls_correction_end\n",
    "panelcap_end.plot_undistorted_reflectance(\n",
    "    dls_irradiance_end*dls_correction_end)\n",
    "panelcap_end.plot_panels()\n",
    "meta_end = metadata.Metadata(panelNames_end[0])\n",
    "Time_end = meta_end.utc_time().hour + (meta_end.utc_time().minute / 60) + \\\n",
    "    (meta_end.utc_time().second/3600)\n",
    "meta_end.get_all()\n",
    "\n",
    "# Linear interpolation\n",
    "m = (panel_irradiance_end-panel_irradiance_start)/(Time_end-Time_start)\n",
    "\n",
    "\n",
    "def lin_interp(time):\n",
    "    return (m*(time-Time_start)+panel_irradiance_start)*100\n",
    "\n",
    "\n",
    "panel_irradiance_end, Time_end\n",
    "panel_irradiance_start, Time_start\n",
    "\n",
    "meta_start.get_all()\n",
    "panelcap_start.dls_irradiance()\n",
    "panelcap_end.dls_irradiance()\n",
    "\n",
    "# plt.plot([Time_start,Time_end],[panel_irradiance_start[0],panel_irradiance_end[0]],'bo-')\n",
    "# #plt.gcf().autofmt_xdate()\n",
    "# plt.xlabel('Time (decimal hour)')\n",
    "# plt.ylabel('Irradiance ($W/m^2/nm$)')\n",
    "# plt.show();\n",
    "\n",
    "os.listdir()\n",
    "#images_dir = os.path.join(images_dir)\n",
    "imgset = imageset.ImageSet.from_directory(images_dir)\n",
    "\n",
    "for cap in imgset.captures:\n",
    "    print (\"Opened Capture {} with bands {}\".format(\n",
    "        cap.uuid, [str(band) for band in cap.band_names()]))\n",
    "\n",
    "imgset_ls = imgset.as_nested_lists()[0]\n",
    "imgset_ls\n",
    "\n",
    "dat = []\n",
    "irr = []\n",
    "for i in range(0, len(imgset_ls)):\n",
    "    dat.append(imgset_ls[i][0].hour + (imgset_ls[i]\n",
    "                                       [0].minute/60)+(imgset_ls[i][0].second/3600))\n",
    "    irr.append(imgset_ls[i][8:13])\n",
    "\n",
    "irr_interp = []\n",
    "for i in range(0, len(imgset_ls)):\n",
    "    irr_interp.append(lin_interp(dat[i]))\n",
    "irr_interp\n",
    "irr_interp_ls = np.asarray(irr_interp).flatten()\n",
    "irr_interp_ls_b = []\n",
    "for i in range(0, len(irr_interp_ls)):\n",
    "    irr_interp_ls_b.append(bytes(str(irr_interp_ls[i]), 'utf8'))\n",
    "\n",
    "\n",
    "images = sorted(glob.glob(images_dir + '/**/*[12345].tif', recursive=True))\n",
    "images_b = []\n",
    "for i in range(0, len(images)):\n",
    "    images_b.append(bytes(images[i], 'utf8'))\n",
    "\n",
    "len(images)\n",
    "\n",
    "irr_interp_ls_b[0]\n",
    "et = exiftool.ExifTool()\n",
    "et.start()\n",
    "for i in range(0, len(images_b)):\n",
    "    et.execute(b'-Irradiance=' +\n",
    "               irr_interp_ls_b[i], images_b[i], b'-overwrite_original')\n",
    "    et.execute(b'-HorizontalIrradiance=' +\n",
    "               irr_interp_ls_b[i], images_b[i], b'-overwrite_original')\n",
    "\n",
    "\n",
    "\n",
    "\n",
    "\n"
   ]
  },
  {
   "cell_type": "code",
   "execution_count": 4,
   "id": "03b8b0f9",
   "metadata": {},
   "outputs": [
    {
     "data": {
      "text/plain": [
       "[0.5365, 0.5348, 0.53264, 0.5292, 0.53166]"
      ]
     },
     "execution_count": 4,
     "metadata": {},
     "output_type": "execute_result"
    }
   ],
   "source": [
    "panel_reflectance_by_band"
   ]
  },
  {
   "cell_type": "code",
   "execution_count": null,
   "id": "6e49e700",
   "metadata": {},
   "outputs": [],
   "source": []
  },
  {
   "cell_type": "code",
   "execution_count": null,
   "id": "783b2619",
   "metadata": {},
   "outputs": [],
   "source": []
  },
  {
   "cell_type": "code",
   "execution_count": null,
   "id": "09d3c5f3",
   "metadata": {},
   "outputs": [],
   "source": []
  }
 ],
 "metadata": {
  "kernelspec": {
   "display_name": "Python [conda env:micasense] *",
   "language": "python",
   "name": "conda-env-micasense-py"
  },
  "language_info": {
   "codemirror_mode": {
    "name": "ipython",
    "version": 3
   },
   "file_extension": ".py",
   "mimetype": "text/x-python",
   "name": "python",
   "nbconvert_exporter": "python",
   "pygments_lexer": "ipython3",
   "version": "3.7.11"
  },
  "name": "panel_correction.ipynb",
  "toc": {
   "base_numbering": 1,
   "nav_menu": {},
   "number_sections": true,
   "sideBar": true,
   "skip_h1_title": false,
   "title_cell": "Table of Contents",
   "title_sidebar": "Contents",
   "toc_cell": false,
   "toc_position": {},
   "toc_section_display": true,
   "toc_window_display": false
  }
 },
 "nbformat": 4,
 "nbformat_minor": 5
}
